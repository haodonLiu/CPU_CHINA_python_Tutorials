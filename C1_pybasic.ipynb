{
 "cells": [
  {
   "cell_type": "markdown",
   "metadata": {},
   "source": [
    "我们的教程大抵是基于jupyter notebook的，大部分的编辑器是支持jupyter notebook的。\n",
    "在jupyter notebook中，所有的内容可以被分割为一个一个的方块，\n",
    "其中我们使用markdown来写注释，就像这行字所在的格子就是markdown块。\n",
    "markdown是一种标记语言，可以用来写文档，支持很多的格式\n",
    "这个暂且不表，我们来看代码块。"
   ]
  },
  {
   "cell_type": "code",
   "execution_count": 1,
   "metadata": {},
   "outputs": [
    {
     "data": {
      "text/plain": [
       "'\\n同样的你也可以使用三个连续的单引号表示注释,与井号(sharp)不同的是\\n它可以实现换行，从而写一个注释段，或者用来发发牢骚\\n'"
      ]
     },
     "execution_count": 1,
     "metadata": {},
     "output_type": "execute_result"
    }
   ],
   "source": [
    "#这种就是代码块，你可以选择在其中运行的语言，一般默认的是python\n",
    "#那么我就不额外介绍py是什么了，从简单代码开始\n",
    "#可以看见我这段话的开头打了一个#，这代表在这个#[之后]的一整行都是注释\n",
    "\n",
    "'''\n",
    "同样的你也可以使用三个连续的单引号表示注释,与井号(sharp)不同的是\n",
    "它可以实现换行，从而写一个注释段，或者用来发发牢骚\n",
    "'''\n",
    "\n",
    "#那么第一个问题来了，你有没有发现上面一句话中有两种逗号(，/,)，新手最容易错误，标点！\n",
    "#py只认识英文标点，中文标点只能在注释里使用\n",
    "#相似的还有【[,。.\n",
    "\n",
    "#那为啥上来先讲注释呢，养成一个好习惯，从写注释开始！我最讨厌不写注释的代码，更讨厌写代码的时候写注释！\n",
    "#但是不写过一周你就想不起自己写的是啥了"
   ]
  },
  {
   "cell_type": "markdown",
   "metadata": {},
   "source": [
    "#basic\n",
    "#基本的数据类型：str,int,float,list,dict,set,tuple"
   ]
  },
  {
   "cell_type": "code",
   "execution_count": 2,
   "metadata": {},
   "outputs": [
    {
     "name": "stdout",
     "output_type": "stream",
     "text": [
      "我也可以用双引号\n",
      "你好我是字符串str,等号前面的是我的变量名，也就是我的名字，你可以试试叫我parameter_str\n"
     ]
    }
   ],
   "source": [
    "parameter_str = '你好我是字符串str,等号前面的是我的变量名，也就是我的名字，你可以试试叫我parameter_str'\n",
    "print(\"我也可以用双引号\")\n",
    "print(parameter_str)#print（什么东西）-->顾名思义打印，可以理解为让我看看括号里的东西长啥样\n",
    "#这是你学的第一个！函数！，很简单吧，同时你也理解了一个很重要的概念！变量赋值！，\n",
    "#你将一个字符串赋值给了！变量！parameter_str，因此parameter_str这个！对象！就有了意义，可以被调用，比如被print打印出来\n",
    "\n",
    "#如果你细心的话你会发现py是一行一行运行的"
   ]
  },
  {
   "cell_type": "code",
   "execution_count": 3,
   "metadata": {},
   "outputs": [
    {
     "name": "stdout",
     "output_type": "stream",
     "text": [
      "<class 'int'> <class 'float'>\n"
     ]
    }
   ],
   "source": [
    "#int整数，float浮点数（小数） 你不要太熟悉 在py里最简单的数字类型就是int和float\n",
    "print(type(1),type(1.0))#你可以用type来查看一个对象的类型（class），后面你也可以自己定义一个类"
   ]
  },
  {
   "cell_type": "code",
   "execution_count": 4,
   "metadata": {},
   "outputs": [
    {
     "name": "stdout",
     "output_type": "stream",
     "text": [
      "整数 5 -1 6 0.6666666666666666 8\n",
      "mix 5.0 -1.0 6.0 0.6666666666666666 8.0\n",
      "浮点数 5.0 -1.0 6.0 0.6666666666666666 8.0\n",
      "5.0 5 0\n",
      "2.5 2 1\n",
      "1.6666666666666667 1 2\n",
      "1.0 1 0\n"
     ]
    }
   ],
   "source": [
    "#可以看出1和1.0不一样\n",
    "print('整数',2+3,2-3,2*3,2/3,2**3)#加减乘除以及指数\n",
    "print('mix',2.0+3,2.0-3,2.0*3,2.0/3,2.0**3)\n",
    "print('浮点数',2.0+3.0,2.0-3.0,2.0*3.0,2.0/3.0,2.0**3.0)\n",
    "#除法的商，以及浮点数参与的所有计算结果都是浮点数\n",
    "print(5/1,5//1,5%1)\n",
    "print(5/2,5//2,5%2)\n",
    "print(5/3,5//3,5%3)\n",
    "print(5/5,5//5,5%5)#两个新符号猜猜有啥用\n",
    "\n"
   ]
  },
  {
   "cell_type": "code",
   "execution_count": 5,
   "metadata": {},
   "outputs": [
    {
     "name": "stdout",
     "output_type": "stream",
     "text": [
      "True False\n"
     ]
    }
   ],
   "source": [
    "#插播一个\n",
    "print(1==1,1!=1)\n",
    "#true,false对错，==是=！不是"
   ]
  },
  {
   "cell_type": "code",
   "execution_count": 6,
   "metadata": {},
   "outputs": [
    {
     "name": "stdout",
     "output_type": "stream",
     "text": [
      "[]\n",
      "[[1, 2, 3]]\n",
      "[[1, 2, 3], 1, 2, 3]\n"
     ]
    }
   ],
   "source": [
    "#list这个是个好东西，像一个储物袋\n",
    "lis=list()#可以这样，但不能直接输入值，可以输入迭代器这个是后话\n",
    "lis2=[1,2,3]#也可以这样\n",
    "print(lis)\n",
    "lis.append(lis2)#通过append添加\n",
    "print(lis)\n",
    "lis.extend(lis2)#extend是直接将另一个列表中的东西倒进去\n",
    "print(lis)\n"
   ]
  },
  {
   "cell_type": "code",
   "execution_count": 7,
   "metadata": {},
   "outputs": [
    {
     "name": "stdout",
     "output_type": "stream",
     "text": [
      "()\n",
      "(1, 2, 3)\n"
     ]
    }
   ],
   "source": [
    "#tuple和list差不多但其中的内容一旦输入就不能更改\n",
    "tup=tuple()\n",
    "print(tup)\n",
    "tup2=(1,2,3)\n",
    "tup += tup2 #tuple一般只能与另一个tuple相加\n",
    "print(tup)"
   ]
  },
  {
   "cell_type": "code",
   "execution_count": 8,
   "metadata": {},
   "outputs": [
    {
     "name": "stdout",
     "output_type": "stream",
     "text": [
      "set()\n",
      "{1}\n",
      "{1, 2, 3}\n"
     ]
    }
   ],
   "source": [
    "#set就更好理解了，集合，高中知识，类似于一个不能重复的储物袋\n",
    "s=set()\n",
    "s2={1,2,3}\n",
    "print(s)\n",
    "s.add(1)\n",
    "print(s)\n",
    "s.update(s2)#合并两个集合\n",
    "print(s)"
   ]
  },
  {
   "cell_type": "code",
   "execution_count": 9,
   "metadata": {},
   "outputs": [
    {
     "name": "stdout",
     "output_type": "stream",
     "text": [
      "jim 20 male\n",
      "jim 20 male\n",
      "{'name': 'jim', 'age': 20, 'sex': 'male'}\n",
      "{'name': 'jimmy', 'age': 20, 'sex': 'male', 'friends': ['tom', 'jimi', 'jack']}\n"
     ]
    }
   ],
   "source": [
    "#dict字典，显而易见，你可以根据索引去查找内容\n",
    "dic={'name':'jim','age':20,'sex':'male'}#可以直接用大括号赋值\n",
    "dic2 = dict(name='jim',age=20,sex='male')\n",
    "print(dic['name'],dic['age'],dic['sex'])#dic[key]代表了根据索引key查找字典dic中的值value，并返回\n",
    "print(dic2['name'],dic2['age'],dic2['sex'])\n",
    "print(dic)\n",
    "dic['name']='jimmy'#修改内容\n",
    "dic['friends']= ['tom','jimi','jack']#添加内容\n",
    "print(dic)"
   ]
  },
  {
   "cell_type": "code",
   "execution_count": 10,
   "metadata": {},
   "outputs": [
    {
     "name": "stdout",
     "output_type": "stream",
     "text": [
      "我是迭代器range(10)里的第 0 个\n",
      "我是迭代器range(10)里的第 1 个\n",
      "我是迭代器range(10)里的第 2 个\n",
      "我是迭代器range(10)里的第 3 个\n",
      "我是迭代器range(10)里的第 4 个\n",
      "我是列表[1,2,3,4,5]里的 1\n",
      "我是列表[1,2,3,4,5]里的 2\n",
      "我是列表[1,2,3,4,5]里的 3\n",
      "我是列表[1,2,3,4,5]里的 4\n",
      "我是列表[1,2,3,4,5]里的 5\n",
      "我是key name 我是value jimmy\n",
      "我是key age 我是value 20\n",
      "我是key sex 我是value male\n",
      "我是key friends 我是value ['tom', 'jimi', 'jack']\n"
     ]
    }
   ],
   "source": [
    "for i in range(5):#这个是循环\n",
    "    print('我是迭代器range(10)里的第',i,'个')#打印这句话有至少三种表示方法，你会几种？\n",
    "for i in [1,2,3,4,5]:\n",
    "    print('我是列表[1,2,3,4,5]里的',i)\n",
    "#在py里计数从0开始\n",
    "for i in dic:#联动一下\n",
    "    print('我是key',i,'我是value',dic[i])"
   ]
  },
  {
   "cell_type": "code",
   "execution_count": 11,
   "metadata": {},
   "outputs": [
    {
     "name": "stdout",
     "output_type": "stream",
     "text": [
      "4\n"
     ]
    }
   ],
   "source": [
    "#来点干货\n",
    "def a_new_function(yigecanshu):\n",
    "    '''你可以使用def短语来定义一个函数并用三引号来注释这个函数，比如这段话将会在你把鼠标移到函数上面时显示'''\n",
    "    return yigecanshu*2\n",
    "#return 代表了你这个函数想要返回什么，这里我们定义向函数a_new_function输入参数yigecanshu并且返回（return）一个参数*2\n",
    "test=a_new_function(2)\n",
    "#来试试效果\n",
    "print(test)"
   ]
  },
  {
   "cell_type": "markdown",
   "metadata": {},
   "source": [
    "整个小练手？\n",
    "\n",
    "A：写一个函数，输入一个年份，返回判断是否是闰年\n",
    "    闰年：能被4整除但不能被100整除，或者能被400整除（经典老题）\n",
    "\n",
    "B: 写一个函数，输入字典，将字典中的key和value交换并返回"
   ]
  }
 ],
 "metadata": {
  "kernelspec": {
   "display_name": "base",
   "language": "python",
   "name": "python3"
  },
  "language_info": {
   "codemirror_mode": {
    "name": "ipython",
    "version": 3
   },
   "file_extension": ".py",
   "mimetype": "text/x-python",
   "name": "python",
   "nbconvert_exporter": "python",
   "pygments_lexer": "ipython3",
   "version": "3.11.5"
  }
 },
 "nbformat": 4,
 "nbformat_minor": 2
}
